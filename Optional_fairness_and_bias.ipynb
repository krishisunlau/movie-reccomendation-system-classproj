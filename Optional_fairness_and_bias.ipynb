{
  "nbformat": 4,
  "nbformat_minor": 0,
  "metadata": {
    "colab": {
      "provenance": []
    },
    "kernelspec": {
      "name": "python3",
      "display_name": "Python 3"
    },
    "language_info": {
      "name": "python"
    }
  },
  "cells": [
    {
      "cell_type": "code",
      "source": [
        "import pandas as pd\n",
        "import numpy as np\n"
      ],
      "metadata": {
        "id": "Yp4TQIFomR9w"
      },
      "execution_count": 11,
      "outputs": []
    },
    {
      "cell_type": "code",
      "source": [
        "recommendations_df = pd.read_csv('recommendations.csv')\n",
        "movies_df = pd.read_csv('clean_movies.csv')"
      ],
      "metadata": {
        "id": "pxMz_hScmTzW"
      },
      "execution_count": 12,
      "outputs": []
    },
    {
      "cell_type": "code",
      "source": [
        "def gini_index(recs_df):\n",
        "    movie_ids = []\n",
        "    for i in range(1, 11):\n",
        "        movie_ids.extend(recs_df[f'rec{i}_movieId'])\n",
        "\n",
        "    movie_counts = pd.Series(movie_ids).value_counts()\n",
        "\n",
        "    total_recs = len(recs_df) * 10\n",
        "    normalized_counts = movie_counts / total_recs\n",
        "\n",
        "    gini_sum = sum([abs(x - y) for x in normalized_counts for y in normalized_counts])\n",
        "    gini_index = gini_sum / (2 * len(normalized_counts) ** 2)\n",
        "\n",
        "    return gini_index"
      ],
      "metadata": {
        "id": "qtdM2yohmyAS"
      },
      "execution_count": 13,
      "outputs": []
    },
    {
      "cell_type": "code",
      "source": [
        "gini = gini_index(recommendations_df)\n",
        "print(f\"Gini Index: {gini}\")"
      ],
      "metadata": {
        "colab": {
          "base_uri": "https://localhost:8080/"
        },
        "id": "h26dfqPZn5Ye",
        "outputId": "328c5739-ae65-45d7-c9f2-db140c41521c"
      },
      "execution_count": 16,
      "outputs": [
        {
          "output_type": "stream",
          "name": "stdout",
          "text": [
            "Gini Index: 0.00034915350693585966\n"
          ]
        }
      ]
    },
    {
      "cell_type": "code",
      "source": [
        "#calculating popularity bias\n",
        "movie_popularity = pd.concat([recommendations_df[f'rec{i}_movieId'] for i in range(1, 11)], axis=0)\n",
        "movie_popularity = movie_popularity.value_counts()\n",
        "\n",
        "popularity_bias = movie_popularity.var()  # using variance as a proxy for bias\n",
        "print(f\"Popularity Bias: {popularity_bias}\")"
      ],
      "metadata": {
        "colab": {
          "base_uri": "https://localhost:8080/"
        },
        "id": "1r6jNU0joL2M",
        "outputId": "948ccee4-d397-4146-8f00-075f73180402"
      },
      "execution_count": 23,
      "outputs": [
        {
          "output_type": "stream",
          "name": "stdout",
          "text": [
            "Popularity Bias: 36.080209699877095\n"
          ]
        }
      ]
    }
  ]
}